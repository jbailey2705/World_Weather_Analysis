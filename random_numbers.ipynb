{
 "cells": [
  {
   "cell_type": "code",
   "execution_count": 95,
   "id": "ba2b82be",
   "metadata": {},
   "outputs": [],
   "source": [
    "# Import Dependency's\n",
    "# Import the \"random\" module\n",
    "# Import numpy as np\n",
    "# Import timeit\n",
    "\n",
    "\n",
    "import random\n",
    "import numpy as np\n",
    "import timeit\n",
    "\n"
   ]
  },
  {
   "cell_type": "code",
   "execution_count": 96,
   "id": "bb1bc3dc",
   "metadata": {},
   "outputs": [
    {
     "data": {
      "text/plain": [
       "-10"
      ]
     },
     "execution_count": 96,
     "metadata": {},
     "output_type": "execute_result"
    }
   ],
   "source": [
    "# To get a list, after random. press tab.\n",
    "# For testing, we'll use the randint(), random(), randrange(), and uniform() functions.\n",
    "\n",
    "# randint is short for \"random integer.\" In the second cell, after random., type randint(-90, 90), as shown below.\n",
    "\n",
    "random.randint(-90, 90)\n",
    "\n"
   ]
  },
  {
   "cell_type": "code",
   "execution_count": 97,
   "id": "03cbdad5",
   "metadata": {},
   "outputs": [
    {
     "data": {
      "text/plain": [
       "0.4102900417675399"
      ]
     },
     "execution_count": 97,
     "metadata": {},
     "output_type": "execute_result"
    }
   ],
   "source": [
    "# Using the random() function, we can get a single floating-point decimal number between 0 and 1.0.\n",
    "\n",
    "# Add random.random() to a new cell and run the cell. Your output should be a decimal \n",
    "# point number between 0 and 1.0, as shown below.\n",
    "\n",
    "random.random()"
   ]
  },
  {
   "cell_type": "code",
   "execution_count": 98,
   "id": "474e8324",
   "metadata": {},
   "outputs": [
    {
     "data": {
      "text/plain": [
       "29.76347545936596"
      ]
     },
     "execution_count": 98,
     "metadata": {},
     "output_type": "execute_result"
    }
   ],
   "source": [
    "# The random() function may help us. This function returns only a floating-point decimal number \n",
    "# between 0 and 1.0. If we combine random.randint(-90, 89) and random.random() to generate a \n",
    "# floating-point decimal between -90 and 90, we can generate a random latitude. \n",
    "# We changed the lower range of the randint() because we want whole numbers up to 89, so when we add the \n",
    "# floating-point decimal number, we'll generate latitudes between –89.99999 and 89.99999\n",
    "\n",
    "random_number = random.randint(-90, 89) + random.random()\n",
    "random_number"
   ]
  },
  {
   "cell_type": "code",
   "execution_count": 99,
   "id": "048153f5",
   "metadata": {},
   "outputs": [
    {
     "data": {
      "text/plain": [
       "[73.41454866137128,\n",
       " -62.100907191473546,\n",
       " 17.414761100887105,\n",
       " 27.901575295717635,\n",
       " -19.0976252403555,\n",
       " -29.90172684279049,\n",
       " -29.784009964217585,\n",
       " 78.62239301241183,\n",
       " -49.81152451369231,\n",
       " 29.726223450988726]"
      ]
     },
     "execution_count": 99,
     "metadata": {},
     "output_type": "execute_result"
    }
   ],
   "source": [
    "# In the code block above, we:\n",
    "\n",
    "    # Assign the variable x to 1.\n",
    "    # Initialize an empty list, latitudes.\n",
    "    # We create a while loop where we generate a random latitude and add it to the list.\n",
    "    # After the random latitude is added to the list we add one to the variable \"x\".\n",
    "    # The while loop condition is checked again and will continue to run as long as x is less than 11.\n",
    "\n",
    "x = 1\n",
    "\n",
    "latitudes = []\n",
    "while x < 11:\n",
    "    random_lat = random.randint(-90, 89) + random.random()\n",
    "    latitudes.append(random_lat)\n",
    "    x += 1  \n",
    "    \n",
    "latitudes\n"
   ]
  },
  {
   "cell_type": "code",
   "execution_count": 100,
   "id": "e2644bfa",
   "metadata": {},
   "outputs": [
    {
     "data": {
      "text/plain": [
       "26"
      ]
     },
     "execution_count": 100,
     "metadata": {},
     "output_type": "execute_result"
    }
   ],
   "source": [
    "# The randrange() function behaves differently than the previous two functions. Inside the parentheses, \n",
    "# we need to add two numbers, a lower and upper limit, separated by a comma.\n",
    "\n",
    "# For the randrange() function, there is an option to add a step parameter and set it equal to an integer, \n",
    "# which will generate increments of a given integer value, from the lower to the upper limit.\n",
    "\n",
    "# For example, add random.randrange(-90, 90, step=1) to a new cell and run the cell. The output is a \n",
    "# number between -90 and 90, where the step is the difference between each number in the sequence.\n",
    "\n",
    "random.randrange(-90,90, step=1)"
   ]
  },
  {
   "cell_type": "code",
   "execution_count": 101,
   "id": "69469be6",
   "metadata": {},
   "outputs": [
    {
     "data": {
      "text/plain": [
       "-75"
      ]
     },
     "execution_count": 101,
     "metadata": {},
     "output_type": "execute_result"
    }
   ],
   "source": [
    "random.randrange(-90,90, step=3)"
   ]
  },
  {
   "cell_type": "code",
   "execution_count": 102,
   "id": "8990029c",
   "metadata": {},
   "outputs": [],
   "source": [
    "# Note - If you don't add the step parameter, the output will be a \n",
    "# number with an increment of 1, which is the default integer value.\n",
    "\n",
    "# This function might help us by combining the random.randrange() and random.random() functions to \n",
    "# generate a floating-point decimal between -90 and 90, like we did with the \n",
    "# random.randint() and random.random() functions."
   ]
  },
  {
   "cell_type": "code",
   "execution_count": 103,
   "id": "63dbc777",
   "metadata": {},
   "outputs": [
    {
     "data": {
      "text/plain": [
       "-30.077375744672977"
      ]
     },
     "execution_count": 103,
     "metadata": {},
     "output_type": "execute_result"
    }
   ],
   "source": [
    "# The uniform() function will allow us to generate a floating-point decimal number between \n",
    "# two given numbers inside the parentheses.\n",
    "\n",
    "# Add random.uniform(-90, 90) to a new cell and run the cell.\n",
    "\n",
    "random.uniform(-90, 90)\n",
    "\n"
   ]
  },
  {
   "cell_type": "code",
   "execution_count": 104,
   "id": "123c0e3e",
   "metadata": {},
   "outputs": [
    {
     "data": {
      "text/plain": [
       "-53.15112406400841"
      ]
     },
     "execution_count": 104,
     "metadata": {},
     "output_type": "execute_result"
    }
   ],
   "source": [
    "# The NumPy module has a built-in random module, and supplements the built-in Python random module. \n",
    "# There is no need to import the random module if we import the NumPy module, as it's redundant.\n",
    "\n",
    "# In the next cell add np.random.uniform(-90.000, 90.000) to generate a floating-point decimal \n",
    "# number between -90.000 and 90.000. \n",
    "# Adding the zeros past the decimal places is optional.\n",
    "\n",
    "np.random.uniform(-90.000, 90.000)\n",
    "\n",
    "# When we use the NumPy module with the random.uniform() function, the parenthetical parameters \n",
    "# contain a lower boundary (low value) and an upper boundary (high value) that are floating-point decimal numbers.\n",
    "\n",
    "# Note - Another option is to write the parameters as np.random.uniform(low=-90, high=90).\n"
   ]
  },
  {
   "cell_type": "code",
   "execution_count": 105,
   "id": "b442ac24",
   "metadata": {},
   "outputs": [
    {
     "data": {
      "text/plain": [
       "-49.027982746352535"
      ]
     },
     "execution_count": 105,
     "metadata": {},
     "output_type": "execute_result"
    }
   ],
   "source": [
    "np.random.uniform(low=-90, high=90)"
   ]
  },
  {
   "cell_type": "code",
   "execution_count": 106,
   "id": "50e842e4",
   "metadata": {},
   "outputs": [
    {
     "data": {
      "text/plain": [
       "array([ 38.33439684,  39.1245922 , -44.97236257,  87.55473256,\n",
       "       -60.38638828, -85.43104166,  50.14904818, -11.301229  ,\n",
       "        -3.74012654, -31.00090208, -60.35503254,  79.07965042,\n",
       "       -12.94965378, -77.47897745,  64.83630067,  49.19897056,\n",
       "         6.43847697,   5.42524842,  37.05426504, -22.16922904,\n",
       "       -36.13214998,  49.66017512, -60.36581097,  -7.12192015,\n",
       "       -13.53844398, -40.32738522,  56.42565571,  74.94055942,\n",
       "       -50.01042883, -37.19795501,  -4.45960777,  -6.3542178 ,\n",
       "       -24.0364129 , -29.37962897, -38.67202946, -84.58434387,\n",
       "        26.96197837, -68.53149093, -54.66124671, -12.63201202,\n",
       "       -11.70739389, -28.01863685, -42.36023779,  18.96291947,\n",
       "        35.87363819, -50.87463536,  24.03360941, -32.94796648,\n",
       "         7.09169444, -81.27499251])"
      ]
     },
     "execution_count": 106,
     "metadata": {},
     "output_type": "execute_result"
    }
   ],
   "source": [
    "# To generate more than one floating-point decimal number between -90 and 90, \n",
    "# we can add the size parameter when we use the NumPy module and set that equal to any whole number.\n",
    "\n",
    "# To see how this works, add the code np.random.uniform(-90.000, 90.000, size=50) to a new cell and run the cell. \n",
    "# The output is an array of 50 floating-point decimal numbers between -90.000 and 90.000.\n",
    "\n",
    "np.random.uniform(-90.000, 90.000, size=50)"
   ]
  },
  {
   "cell_type": "code",
   "execution_count": 107,
   "id": "1bc7b97e",
   "metadata": {},
   "outputs": [
    {
     "data": {
      "text/plain": [
       "array([ 72.60669218,  36.37431392,  79.42020508,  23.58679241,\n",
       "        14.23871044,  -6.8804977 , -29.04885461,  70.98595722,\n",
       "        56.24188922, -77.50555208,  29.25703775, -59.10297687,\n",
       "       -68.42874785, -62.4269474 , -59.12064162,  85.42535094,\n",
       "       -17.73226075,  60.85814196, -33.29956086,  27.69743445,\n",
       "         5.13661582, -16.11544336, -83.45819333,  67.54006655,\n",
       "        26.23643681, -14.97623053, -33.38414265,  66.32921096,\n",
       "       -64.56518395, -27.5139095 , -41.6282718 ,  80.18926751,\n",
       "        79.75699757, -10.66661618, -82.04625541, -74.79773143,\n",
       "        67.10874879,  -8.05239898, -60.57038509, -81.01183979,\n",
       "       -41.73789642, -78.04046709,  -8.54021537, -36.56902761,\n",
       "        71.84342245,  40.97983331, -40.81869234, -33.56794171,\n",
       "       -19.26279935,   8.79949802])"
      ]
     },
     "execution_count": 107,
     "metadata": {},
     "output_type": "execute_result"
    }
   ],
   "source": [
    "# Or you can write it as such to return the same values\n",
    "\n",
    "np.random.uniform(low=-90, high=90,size=50)"
   ]
  },
  {
   "cell_type": "code",
   "execution_count": 108,
   "id": "b7994a5d",
   "metadata": {},
   "outputs": [
    {
     "name": "stdout",
     "output_type": "stream",
     "text": [
      "12.1 µs ± 63.3 ns per loop (mean ± std. dev. of 7 runs, 100,000 loops each)\n"
     ]
    }
   ],
   "source": [
    "# To test how long a piece of code or function takes to run, we can import the \"timeit\" module and use \n",
    "# the %timeit magic command when we run our code or call the function.\n",
    "\n",
    "# Next, add the %timeit magic command before the np.random.uniform(-90.000, 90.000, size=1500) in a new cell.\n",
    "\n",
    "%timeit np.random.uniform(-90.000, 90.000, size=1500)"
   ]
  },
  {
   "cell_type": "code",
   "execution_count": 110,
   "id": "724dadfa",
   "metadata": {},
   "outputs": [
    {
     "name": "stdout",
     "output_type": "stream",
     "text": [
      "1.09 ms ± 4.8 µs per loop (mean ± std. dev. of 7 runs, 1,000 loops each)\n"
     ]
    }
   ],
   "source": [
    "# The output is the amount of time it took to run this code, which is an average of 14.6 microseconds. \n",
    "# The amount of time it takes to run this code depends on the processing speed and the RAM of your computer.\n",
    "\n",
    "# Now, let's run the while loop as a function.\n",
    "\n",
    "def latitudes(size):\n",
    "    latitudes = []\n",
    "    x = 0\n",
    "    while x < (size):\n",
    "        random_lat = random.randint(-90, 90) + random.random()\n",
    "        latitudes.append(random_lat)\n",
    "        x += 1\n",
    "    return latitudes\n",
    "# Call the function with 1500.\n",
    "%timeit latitudes(1500)\n",
    "\n",
    "# Note Using the np.random.uniform(-90.000, 90.000, size=1500) is 100 times faster than using the function, and our \n",
    "# code is one line, whereas the function uses eight lines!"
   ]
  },
  {
   "cell_type": "code",
   "execution_count": null,
   "id": "6a1df468",
   "metadata": {},
   "outputs": [],
   "source": []
  },
  {
   "cell_type": "code",
   "execution_count": null,
   "id": "db317f9f",
   "metadata": {},
   "outputs": [],
   "source": []
  }
 ],
 "metadata": {
  "kernelspec": {
   "display_name": "PythonData",
   "language": "python",
   "name": "pythondata"
  },
  "language_info": {
   "codemirror_mode": {
    "name": "ipython",
    "version": 3
   },
   "file_extension": ".py",
   "mimetype": "text/x-python",
   "name": "python",
   "nbconvert_exporter": "python",
   "pygments_lexer": "ipython3",
   "version": "3.9.12"
  }
 },
 "nbformat": 4,
 "nbformat_minor": 5
}
