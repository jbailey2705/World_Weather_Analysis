{
 "cells": [
  {
   "cell_type": "code",
   "execution_count": 1,
   "id": "14fbe21d",
   "metadata": {},
   "outputs": [],
   "source": [
    "# Import the dependencies.\n",
    "import pandas as pd\n",
    "import matplotlib.pyplot as plt\n",
    "import numpy as np\n",
    "from citipy import citipy"
   ]
  },
  {
   "cell_type": "code",
   "execution_count": 2,
   "id": "70375c39",
   "metadata": {},
   "outputs": [
    {
     "data": {
      "text/plain": [
       "<zip at 0x7ff1d1dede40>"
      ]
     },
     "execution_count": 2,
     "metadata": {},
     "output_type": "execute_result"
    }
   ],
   "source": [
    "# In the next cell, we'll add the code that generates the latitudes and longitudes, but first, they need to be \n",
    "# stored so that we can access them later. Since we are creating arrays of latitudes and longitudes, \n",
    "# we'll declare each array as a variable.\n",
    "\n",
    "# In the next cell, add the following code that we used to generate the random latitudes. \n",
    "# Also, we'll create a similar code snippet that will generate longitudes. \n",
    "# To ensure enough latitudes and longitudes, we'll start with 1,500. In addition, we'll pack the \n",
    "# latitudes (lats) and longitudes (lngs) as pairs by zipping them (lat_lngs) with the zip() function.\n",
    "\n",
    "# Create a set of random latitude and longitude combinations.\n",
    "\n",
    "lats = np.random.uniform(low=-90.000, high=90.000, size=1500)\n",
    "lngs = np.random.uniform(low=-180.000, high=180.000, size=1500)\n",
    "lat_lngs = zip(lats, lngs)\n",
    "lat_lngs"
   ]
  },
  {
   "cell_type": "code",
   "execution_count": 3,
   "id": "aaedf0e1",
   "metadata": {},
   "outputs": [],
   "source": [
    "# The zip object packs each pair of lats and lngs having the same index in their respective array into a tuple. \n",
    "# If there are 1,500 latitudes and longitudes, there will be 1,500 tuples of paired latitudes and longitudes, \n",
    "# where each latitude and longitude in a tuple can be accessed by the index of 0 and 1, respectively."
   ]
  },
  {
   "cell_type": "code",
   "execution_count": 5,
   "id": "1c9b0160",
   "metadata": {},
   "outputs": [
    {
     "data": {
      "text/plain": [
       "625"
      ]
     },
     "execution_count": 5,
     "metadata": {},
     "output_type": "execute_result"
    }
   ],
   "source": [
    "# Create a list for holding the cities.\n",
    "\n",
    "cities = []\n",
    "\n",
    "coordinates = list(lat_lngs)\n",
    "\n",
    "# Identify the nearest city for each latitude and longitude combination.\n",
    "\n",
    "for coordinate in coordinates:\n",
    "    city = citipy.nearest_city(coordinate[0], coordinate[1]).city_name\n",
    "\n",
    "# If the city is unique, then we will add it to the cities list.\n",
    "    \n",
    "    if city not in cities:\n",
    "        cities.append(city)\n",
    "# Print the city count to confirm sufficient count.\n",
    "\n",
    "len(cities)"
   ]
  },
  {
   "cell_type": "code",
   "execution_count": null,
   "id": "98048d46",
   "metadata": {},
   "outputs": [],
   "source": []
  }
 ],
 "metadata": {
  "kernelspec": {
   "display_name": "PythonData",
   "language": "python",
   "name": "pythondata"
  },
  "language_info": {
   "codemirror_mode": {
    "name": "ipython",
    "version": 3
   },
   "file_extension": ".py",
   "mimetype": "text/x-python",
   "name": "python",
   "nbconvert_exporter": "python",
   "pygments_lexer": "ipython3",
   "version": "3.9.12"
  }
 },
 "nbformat": 4,
 "nbformat_minor": 5
}
